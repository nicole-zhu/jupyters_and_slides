{
 "cells": [
  {
   "cell_type": "code",
   "execution_count": 27,
   "metadata": {},
   "outputs": [
    {
     "name": "stdout",
     "output_type": "stream",
     "text": [
      "[<a class=\"c-call-to-action\" href=\"/schedules/Red/line\">              View Red Line info\n",
      "</a>, <a class=\"c-call-to-action\" href=\"/schedules/Mattapan/line\">                  View Mattapan Trolley info\n",
      "</a>, <a class=\"c-call-to-action\" href=\"/schedules/Orange/line\">              View Orange Line info\n",
      "</a>, <a class=\"c-call-to-action\" href=\"/schedules/Green/line\">              View Green Line info\n",
      "</a>, <a class=\"c-call-to-action\" href=\"/schedules/Blue/line\">              View Blue Line info\n",
      "</a>]\n",
      "['Red', 'Mattapan', 'Orange', 'Green', 'Blue']\n"
     ]
    }
   ],
   "source": [
    "import requests\n",
    "from bs4 import BeautifulSoup\n",
    "import re\n",
    "import os\n",
    " \n",
    "ul = 'https://www.mbta.com/stops/subway'\n",
    "response = requests.get(ul)\n",
    "#response.encoding = 'gbk'  # 原始网页编码错误，utf-8也不管用，只能用gbk\n",
    "html = response.text\n",
    "# print(html)\n",
    "soup = BeautifulSoup(html, 'lxml')  # 变成汤汁\n",
    " \n",
    " \n",
    "def get_txt_name():  # 得到线路名称的前一步\n",
    "    txt_src_name = []\n",
    "  \n",
    "    temp = soup.find_all('a', class_=\"c-call-to-action\")\n",
    "    print(temp)\n",
    "    txt_src_name += temp\n",
    "    return txt_src_name\n",
    "   \n",
    "#print(get_txt_name())  \n",
    "def get_txtuseful_name():  # 得到可用的线路名称\n",
    "    obj = []\n",
    "    for each in get_txt_name():\n",
    "        temp = re.findall(r'href=\"/schedules/(.+?)/line\"', str(each))  # 从>匹配到<(不包含)，若要包含，则先使用re.compile，再search\n",
    "        obj += temp\n",
    "    return obj\n",
    "print(get_txtuseful_name())  # 测试用\n"
   ]
  },
  {
   "cell_type": "code",
   "execution_count": 34,
   "metadata": {},
   "outputs": [
    {
     "name": "stdout",
     "output_type": "stream",
     "text": [
      "['Alewife', 'Andrew', 'Ashmont', 'Braintree', 'Broadway', 'Central', 'Charles/MGH', 'Davis', 'Downtown Crossing', 'Fields Corner', 'Harvard', 'JFK/UMass', 'Kendall/MIT', 'North Quincy', 'Park Street', 'Porter', 'Quincy Adams', 'Quincy Center', 'Savin Hill', 'Shawmut', 'South Station', 'Wollaston', 'Ashmont', 'Butler', 'Capen Street', 'Cedar Grove', 'Central Avenue', 'Mattapan', 'Milton', 'Valley Road', 'Assembly', 'Back Bay', 'Chinatown', 'Community College', 'Downtown Crossing', 'Forest Hills', 'Green Street', 'Haymarket', 'Jackson Square', 'Malden Center', 'Massachusetts Avenue', 'North Station', 'Oak Grove', 'Roxbury Crossing', 'Ruggles', 'State', 'Stony Brook', 'Sullivan Square', 'Tufts Medical Center', 'Wellington', 'Allston Street', 'Arlington', 'Babcock Street', 'Back of the Hill', 'Beaconsfield', 'Blandford Street', 'Boston College', 'Boston University Central', 'Boston University East', 'Boston University West', 'Boylston', 'Brandon Hall', 'Brigham Circle', 'Brookline Hills', 'Brookline Village', 'Chestnut Hill', 'Chestnut Hill Avenue', 'Chiswick Road', 'Cleveland Circle', 'Coolidge Corner', 'Copley', 'Dean Road', 'Eliot', 'Englewood Avenue', 'Fairbanks Street', 'Fenway', 'Fenwood Road', 'Government Center', 'Griggs Street', 'Harvard Avenue', 'Hawes Street', 'Haymarket', 'Heath Street', 'Hynes Convention Center', 'Kenmore', 'Kent Street', 'Lechmere', 'Longwood', 'Longwood Medical Area', 'Mission Park', 'Museum of Fine Arts', 'Newton Centre', 'Newton Highlands', 'North Station', 'Northeastern University', 'Packards Corner', 'Park Street', 'Pleasant Street', 'Prudential', 'Reservoir', 'Riverside', 'Riverway', 'Saint Marys Street', 'Saint Paul Street', 'Saint Paul Street', 'Science Park/West End', 'South Street', 'Summit Avenue', 'Sutherland Road', 'Symphony', 'Tappan Street', 'Waban', 'Warren Street', 'Washington Square', 'Washington Street', 'Woodland', 'Airport', 'Aquarium', 'Beachmont', 'Bowdoin', 'Government Center', 'Maverick', 'Orient Heights', 'Revere Beach', 'State', 'Suffolk Downs', 'Wonderland', 'Wood Island']\n"
     ]
    }
   ],
   "source": [
    "\n"
   ]
  },
  {
   "cell_type": "code",
   "execution_count": 117,
   "metadata": {},
   "outputs": [],
   "source": [
    "from bs4 import BeautifulSoup\n",
    "import requests\n",
    "import re\n",
    "def get_lines_list(line_num):\n",
    "    \n",
    " \n",
    "        url = \"https://www.mbta.com/schedules/\"+line_num+\"/line\" \n",
    "        response = requests.get(url)\n",
    "        \n",
    "        soup = BeautifulSoup(response.content)\n",
    "        origin_stop=[]\n",
    "        temp1= soup.find_all('div', class_=\"route-branch-stop-name\")\n",
    "        origin_stop+=temp1\n",
    "        #print(origin_stop)\n",
    "        after_stop = []\n",
    "        for each in origin_stop:\n",
    "            temp2 = re.findall(r\">(.+?)</a>\", str(each))  # 从>匹配到<(不包含)，若要包含，则先使用re.compile，再search\n",
    "            after_stop += temp2\n",
    "        return after_stop\n",
    "    \n"
   ]
  },
  {
   "cell_type": "code",
   "execution_count": 118,
   "metadata": {},
   "outputs": [
    {
     "name": "stdout",
     "output_type": "stream",
     "text": [
      "['Alewife', 'Davis', 'Porter', 'Harvard', 'Central', 'Kendall/\\u200bMIT', 'Charles/\\u200bMGH', 'Park Street', 'Downtown Crossing', 'South Station', 'Broadway', 'Andrew', 'JFK/\\u200bUMass', 'North Quincy', 'Wollaston', 'Quincy Center', 'Quincy Adams', 'Braintree', 'Savin Hill', 'Fields Corner', 'Shawmut', 'Ashmont']\n",
      "['Wonderland', 'Revere Beach', 'Beachmont', 'Suffolk Downs', 'Orient Heights', 'Wood Island', 'Airport', 'Maverick', 'Aquarium', 'State', 'Government Center', 'Bowdoin']\n",
      "['Oak Grove', 'Malden Center', 'Wellington', 'Assembly', 'Sullivan Square', 'Community College', 'North Station', 'Haymarket', 'State', 'Downtown Crossing', 'Chinatown', 'Tufts Medical Center', 'Back Bay', 'Massachusetts Avenue', 'Ruggles', 'Roxbury Crossing', 'Jackson Square', 'Stony Brook', 'Green Street', 'Forest Hills']\n",
      "['Ashmont', 'Cedar Grove', 'Butler', 'Milton', 'Central Avenue', 'Valley Road', 'Capen Street', 'Mattapan']\n",
      "['Park Street', 'Boylston', 'Arlington', 'Copley', 'Hynes Convention Center', 'Kenmore', 'Blandford Street', 'Boston University East', 'Boston University Central', 'Boston University West', 'Saint Paul Street', 'Pleasant Street', 'Babcock Street', 'Packards Corner', 'Harvard Avenue', 'Griggs Street', 'Allston Street', 'Warren Street', 'Washington Street', 'Sutherland Road', 'Chiswick Road', 'Chestnut Hill Avenue', 'South Street', 'Boston College']\n",
      "['North Station', 'Haymarket', 'Government Center', 'Park Street', 'Boylston', 'Arlington', 'Copley', 'Hynes Convention Center', 'Kenmore', 'Saint Marys Street', 'Hawes Street', 'Kent Street', 'Saint Paul Street', 'Coolidge Corner', 'Summit Avenue', 'Brandon Hall', 'Fairbanks Street', 'Washington Square', 'Tappan Street', 'Dean Road', 'Englewood Avenue', 'Cleveland Circle']\n",
      "['Government Center', 'Park Street', 'Boylston', 'Arlington', 'Copley', 'Hynes Convention Center', 'Kenmore', 'Fenway', 'Longwood', 'Brookline Village', 'Brookline Hills', 'Beaconsfield', 'Reservoir', 'Chestnut Hill', 'Newton Centre', 'Newton Highlands', 'Eliot', 'Waban', 'Woodland', 'Riverside']\n",
      "['Lechmere', 'Science Park/\\u200bWest End', 'North Station', 'Haymarket', 'Government Center', 'Park Street', 'Boylston', 'Arlington', 'Copley', 'Prudential', 'Symphony', 'Northeastern University', 'Museum of Fine Arts', 'Longwood Medical Area', 'Brigham Circle', 'Fenwood Road', 'Mission Park', 'Riverway', 'Back of the Hill', 'Heath Street']\n"
     ]
    }
   ],
   "source": [
    "line=['Red','Blue','Orange','Mattapan','Green-B','Green-C','Green-D','Green-E']\n",
    "for i in line:\n",
    "    print(get_lines_list(i))"
   ]
  },
  {
   "cell_type": "code",
   "execution_count": null,
   "metadata": {},
   "outputs": [],
   "source": []
  },
  {
   "cell_type": "code",
   "execution_count": 121,
   "metadata": {},
   "outputs": [],
   "source": [
    "from collections import defaultdict\n",
    "def build_connection(city_info):\n",
    "    cities_connection = defaultdict(list)\n",
    "    \n",
    "    for j in line:\n",
    "        cities = get_lines_list(j)\n",
    "        for c1 in cities:\n",
    "            for c2 in cities:\n",
    "                if c1 == c2 : continue\n",
    "                if abs(cities.index(c1)-cities.index(c2))==1:\n",
    "\n",
    "                    cities_connection[c1].append(c2)\n",
    "                    cities_connection[c1]=list(set(cities_connection[c1]))\n",
    "    return cities_connection\n",
    "stops=list(get_lines_list(i) for i in line)\n",
    "stop_connection = build_connection(stops)"
   ]
  },
  {
   "cell_type": "code",
   "execution_count": 123,
   "metadata": {},
   "outputs": [
    {
     "data": {
      "text/plain": [
       "defaultdict(list,\n",
       "            {'Alewife': ['Davis'],\n",
       "             'Davis': ['Alewife', 'Porter'],\n",
       "             'Porter': ['Davis', 'Harvard'],\n",
       "             'Harvard': ['Central', 'Porter'],\n",
       "             'Central': ['Harvard', 'Kendall/\\u200bMIT'],\n",
       "             'Kendall/\\u200bMIT': ['Central', 'Charles/\\u200bMGH'],\n",
       "             'Charles/\\u200bMGH': ['Park Street', 'Kendall/\\u200bMIT'],\n",
       "             'Park Street': ['Downtown Crossing',\n",
       "              'Boylston',\n",
       "              'Government Center',\n",
       "              'Charles/\\u200bMGH'],\n",
       "             'Downtown Crossing': ['State',\n",
       "              'Chinatown',\n",
       "              'South Station',\n",
       "              'Park Street'],\n",
       "             'South Station': ['Downtown Crossing', 'Broadway'],\n",
       "             'Broadway': ['Andrew', 'South Station'],\n",
       "             'Andrew': ['JFK/\\u200bUMass', 'Broadway'],\n",
       "             'JFK/\\u200bUMass': ['Andrew', 'North Quincy'],\n",
       "             'North Quincy': ['JFK/\\u200bUMass', 'Wollaston'],\n",
       "             'Wollaston': ['North Quincy', 'Quincy Center'],\n",
       "             'Quincy Center': ['Quincy Adams', 'Wollaston'],\n",
       "             'Quincy Adams': ['Braintree', 'Quincy Center'],\n",
       "             'Braintree': ['Savin Hill', 'Quincy Adams'],\n",
       "             'Savin Hill': ['Braintree', 'Fields Corner'],\n",
       "             'Fields Corner': ['Savin Hill', 'Shawmut'],\n",
       "             'Shawmut': ['Ashmont', 'Fields Corner'],\n",
       "             'Ashmont': ['Cedar Grove', 'Shawmut'],\n",
       "             'Wonderland': ['Revere Beach'],\n",
       "             'Revere Beach': ['Beachmont', 'Wonderland'],\n",
       "             'Beachmont': ['Revere Beach', 'Suffolk Downs'],\n",
       "             'Suffolk Downs': ['Orient Heights', 'Beachmont'],\n",
       "             'Orient Heights': ['Suffolk Downs', 'Wood Island'],\n",
       "             'Wood Island': ['Orient Heights', 'Airport'],\n",
       "             'Airport': ['Maverick', 'Wood Island'],\n",
       "             'Maverick': ['Airport', 'Aquarium'],\n",
       "             'Aquarium': ['State', 'Maverick'],\n",
       "             'State': ['Downtown Crossing',\n",
       "              'Haymarket',\n",
       "              'Government Center',\n",
       "              'Aquarium'],\n",
       "             'Government Center': ['State',\n",
       "              'Haymarket',\n",
       "              'Bowdoin',\n",
       "              'Park Street'],\n",
       "             'Bowdoin': ['Government Center'],\n",
       "             'Oak Grove': ['Malden Center'],\n",
       "             'Malden Center': ['Oak Grove', 'Wellington'],\n",
       "             'Wellington': ['Assembly', 'Malden Center'],\n",
       "             'Assembly': ['Sullivan Square', 'Wellington'],\n",
       "             'Sullivan Square': ['Assembly', 'Community College'],\n",
       "             'Community College': ['Sullivan Square', 'North Station'],\n",
       "             'North Station': ['Science Park/\\u200bWest End',\n",
       "              'Haymarket',\n",
       "              'Community College'],\n",
       "             'Haymarket': ['North Station', 'Government Center', 'State'],\n",
       "             'Chinatown': ['Downtown Crossing', 'Tufts Medical Center'],\n",
       "             'Tufts Medical Center': ['Chinatown', 'Back Bay'],\n",
       "             'Back Bay': ['Tufts Medical Center', 'Massachusetts Avenue'],\n",
       "             'Massachusetts Avenue': ['Ruggles', 'Back Bay'],\n",
       "             'Ruggles': ['Roxbury Crossing', 'Massachusetts Avenue'],\n",
       "             'Roxbury Crossing': ['Jackson Square', 'Ruggles'],\n",
       "             'Jackson Square': ['Roxbury Crossing', 'Stony Brook'],\n",
       "             'Stony Brook': ['Green Street', 'Jackson Square'],\n",
       "             'Green Street': ['Forest Hills', 'Stony Brook'],\n",
       "             'Forest Hills': ['Green Street'],\n",
       "             'Cedar Grove': ['Butler', 'Ashmont'],\n",
       "             'Butler': ['Cedar Grove', 'Milton'],\n",
       "             'Milton': ['Butler', 'Central Avenue'],\n",
       "             'Central Avenue': ['Valley Road', 'Milton'],\n",
       "             'Valley Road': ['Capen Street', 'Central Avenue'],\n",
       "             'Capen Street': ['Mattapan', 'Valley Road'],\n",
       "             'Mattapan': ['Capen Street'],\n",
       "             'Boylston': ['Arlington', 'Park Street'],\n",
       "             'Arlington': ['Copley', 'Boylston'],\n",
       "             'Copley': ['Prudential', 'Arlington', 'Hynes Convention Center'],\n",
       "             'Hynes Convention Center': ['Copley', 'Kenmore'],\n",
       "             'Kenmore': ['Fenway',\n",
       "              'Saint Marys Street',\n",
       "              'Blandford Street',\n",
       "              'Hynes Convention Center'],\n",
       "             'Blandford Street': ['Boston University East', 'Kenmore'],\n",
       "             'Boston University East': ['Blandford Street',\n",
       "              'Boston University Central'],\n",
       "             'Boston University Central': ['Boston University East',\n",
       "              'Boston University West'],\n",
       "             'Boston University West': ['Saint Paul Street',\n",
       "              'Boston University Central'],\n",
       "             'Saint Paul Street': ['Coolidge Corner',\n",
       "              'Pleasant Street',\n",
       "              'Kent Street',\n",
       "              'Boston University West'],\n",
       "             'Pleasant Street': ['Saint Paul Street', 'Babcock Street'],\n",
       "             'Babcock Street': ['Pleasant Street', 'Packards Corner'],\n",
       "             'Packards Corner': ['Harvard Avenue', 'Babcock Street'],\n",
       "             'Harvard Avenue': ['Griggs Street', 'Packards Corner'],\n",
       "             'Griggs Street': ['Allston Street', 'Harvard Avenue'],\n",
       "             'Allston Street': ['Griggs Street', 'Warren Street'],\n",
       "             'Warren Street': ['Allston Street', 'Washington Street'],\n",
       "             'Washington Street': ['Warren Street', 'Sutherland Road'],\n",
       "             'Sutherland Road': ['Chiswick Road', 'Washington Street'],\n",
       "             'Chiswick Road': ['Chestnut Hill Avenue', 'Sutherland Road'],\n",
       "             'Chestnut Hill Avenue': ['Chiswick Road', 'South Street'],\n",
       "             'South Street': ['Boston College', 'Chestnut Hill Avenue'],\n",
       "             'Boston College': ['South Street'],\n",
       "             'Saint Marys Street': ['Hawes Street', 'Kenmore'],\n",
       "             'Hawes Street': ['Kent Street', 'Saint Marys Street'],\n",
       "             'Kent Street': ['Saint Paul Street', 'Hawes Street'],\n",
       "             'Coolidge Corner': ['Saint Paul Street', 'Summit Avenue'],\n",
       "             'Summit Avenue': ['Coolidge Corner', 'Brandon Hall'],\n",
       "             'Brandon Hall': ['Fairbanks Street', 'Summit Avenue'],\n",
       "             'Fairbanks Street': ['Brandon Hall', 'Washington Square'],\n",
       "             'Washington Square': ['Fairbanks Street', 'Tappan Street'],\n",
       "             'Tappan Street': ['Dean Road', 'Washington Square'],\n",
       "             'Dean Road': ['Tappan Street', 'Englewood Avenue'],\n",
       "             'Englewood Avenue': ['Dean Road', 'Cleveland Circle'],\n",
       "             'Cleveland Circle': ['Englewood Avenue'],\n",
       "             'Fenway': ['Longwood', 'Kenmore'],\n",
       "             'Longwood': ['Fenway', 'Brookline Village'],\n",
       "             'Brookline Village': ['Brookline Hills', 'Longwood'],\n",
       "             'Brookline Hills': ['Beaconsfield', 'Brookline Village'],\n",
       "             'Beaconsfield': ['Reservoir', 'Brookline Hills'],\n",
       "             'Reservoir': ['Chestnut Hill', 'Beaconsfield'],\n",
       "             'Chestnut Hill': ['Newton Centre', 'Reservoir'],\n",
       "             'Newton Centre': ['Chestnut Hill', 'Newton Highlands'],\n",
       "             'Newton Highlands': ['Newton Centre', 'Eliot'],\n",
       "             'Eliot': ['Waban', 'Newton Highlands'],\n",
       "             'Waban': ['Woodland', 'Eliot'],\n",
       "             'Woodland': ['Riverside', 'Waban'],\n",
       "             'Riverside': ['Woodland'],\n",
       "             'Lechmere': ['Science Park/\\u200bWest End'],\n",
       "             'Science Park/\\u200bWest End': ['Lechmere', 'North Station'],\n",
       "             'Prudential': ['Copley', 'Symphony'],\n",
       "             'Symphony': ['Prudential', 'Northeastern University'],\n",
       "             'Northeastern University': ['Museum of Fine Arts', 'Symphony'],\n",
       "             'Museum of Fine Arts': ['Northeastern University',\n",
       "              'Longwood Medical Area'],\n",
       "             'Longwood Medical Area': ['Museum of Fine Arts',\n",
       "              'Brigham Circle'],\n",
       "             'Brigham Circle': ['Fenwood Road', 'Longwood Medical Area'],\n",
       "             'Fenwood Road': ['Mission Park', 'Brigham Circle'],\n",
       "             'Mission Park': ['Riverway', 'Fenwood Road'],\n",
       "             'Riverway': ['Back of the Hill', 'Mission Park'],\n",
       "             'Back of the Hill': ['Riverway', 'Heath Street'],\n",
       "             'Heath Street': ['Back of the Hill']})"
      ]
     },
     "execution_count": 123,
     "metadata": {},
     "output_type": "execute_result"
    }
   ],
   "source": [
    "stop_connection"
   ]
  },
  {
   "cell_type": "code",
   "execution_count": 129,
   "metadata": {},
   "outputs": [],
   "source": [
    "def search(start,stop,connection_graph,sort_candidate):\n",
    "    pathes = [[start]]\n",
    "    visited = set()\n",
    "    \n",
    "    while pathes:\n",
    "        path = pathes.pop()\n",
    "        frontier = path[-1]\n",
    "        if frontier in visited: continue\n",
    "        successors = connection_graph[frontier]\n",
    "        for city in successors:\n",
    "            if city in path: continue\n",
    "            new_path = path + [city]\n",
    "            pathes.append(new_path)\n",
    "            if city == stop: return new_path\n",
    "        visited.add(frontier)\n",
    "        pathes = sort_candidate(pathes)\n",
    "#最长站点\n",
    "def transfer_as_much(pathes):\n",
    "    return sorted(pathes,key=len)\n",
    "#最少站点\n",
    "def transfer_as_less(pathes):\n",
    "    return sorted(pathes,key=len,reverse=True)"
   ]
  },
  {
   "cell_type": "code",
   "execution_count": 128,
   "metadata": {},
   "outputs": [],
   "source": [
    "from emoji import emojize\n",
    "def pretty_print(cities):\n",
    "    print(emojize(\" :metro:-> \").join(cities))"
   ]
  },
  {
   "cell_type": "code",
   "execution_count": 130,
   "metadata": {},
   "outputs": [
    {
     "name": "stdout",
     "output_type": "stream",
     "text": [
      "Malden Center 🚇-> Wellington 🚇-> Assembly 🚇-> Sullivan Square 🚇-> Community College 🚇-> North Station 🚇-> Haymarket 🚇-> Government Center 🚇-> Park Street 🚇-> Boylston 🚇-> Arlington 🚇-> Copley 🚇-> Hynes Convention Center 🚇-> Kenmore 🚇-> Blandford Street 🚇-> Boston University East 🚇-> Boston University Central\n"
     ]
    }
   ],
   "source": [
    "pretty_print(search('Malden Center','Boston University Central',stop_connection,sort_candidate=transfer_as_less))"
   ]
  },
  {
   "cell_type": "code",
   "execution_count": 114,
   "metadata": {
    "scrolled": true
   },
   "outputs": [
    {
     "name": "stdout",
     "output_type": "stream",
     "text": [
      "[['Alewife', 'Davis', 'Porter', 'Harvard', 'Central', 'Kendall/\\u200bMIT', 'Charles/\\u200bMGH', 'Park Street', 'Downtown Crossing', 'South Station', 'Broadway', 'Andrew', 'JFK/\\u200bUMass', 'North Quincy', 'Wollaston', 'Quincy Center', 'Quincy Adams', 'Braintree', 'Savin Hill', 'Fields Corner', 'Shawmut', 'Ashmont'], ['Wonderland', 'Revere Beach', 'Beachmont', 'Suffolk Downs', 'Orient Heights', 'Wood Island', 'Airport', 'Maverick', 'Aquarium', 'State', 'Government Center', 'Bowdoin'], ['Oak Grove', 'Malden Center', 'Wellington', 'Assembly', 'Sullivan Square', 'Community College', 'North Station', 'Haymarket', 'State', 'Downtown Crossing', 'Chinatown', 'Tufts Medical Center', 'Back Bay', 'Massachusetts Avenue', 'Ruggles', 'Roxbury Crossing', 'Jackson Square', 'Stony Brook', 'Green Street', 'Forest Hills'], ['Ashmont', 'Cedar Grove', 'Butler', 'Milton', 'Central Avenue', 'Valley Road', 'Capen Street', 'Mattapan'], ['Park Street', 'Boylston', 'Arlington', 'Copley', 'Hynes Convention Center', 'Kenmore', 'Blandford Street', 'Boston University East', 'Boston University Central', 'Boston University West', 'Saint Paul Street', 'Pleasant Street', 'Babcock Street', 'Packards Corner', 'Harvard Avenue', 'Griggs Street', 'Allston Street', 'Warren Street', 'Washington Street', 'Sutherland Road', 'Chiswick Road', 'Chestnut Hill Avenue', 'South Street', 'Boston College'], ['North Station', 'Haymarket', 'Government Center', 'Park Street', 'Boylston', 'Arlington', 'Copley', 'Hynes Convention Center', 'Kenmore', 'Saint Marys Street', 'Hawes Street', 'Kent Street', 'Saint Paul Street', 'Coolidge Corner', 'Summit Avenue', 'Brandon Hall', 'Fairbanks Street', 'Washington Square', 'Tappan Street', 'Dean Road', 'Englewood Avenue', 'Cleveland Circle'], ['Government Center', 'Park Street', 'Boylston', 'Arlington', 'Copley', 'Hynes Convention Center', 'Kenmore', 'Fenway', 'Longwood', 'Brookline Village', 'Brookline Hills', 'Beaconsfield', 'Reservoir', 'Chestnut Hill', 'Newton Centre', 'Newton Highlands', 'Eliot', 'Waban', 'Woodland', 'Riverside'], ['Lechmere', 'Science Park/\\u200bWest End', 'North Station', 'Haymarket', 'Government Center', 'Park Street', 'Boylston', 'Arlington', 'Copley', 'Prudential', 'Symphony', 'Northeastern University', 'Museum of Fine Arts', 'Longwood Medical Area', 'Brigham Circle', 'Fenwood Road', 'Mission Park', 'Riverway', 'Back of the Hill', 'Heath Street']]\n",
      "{'Alewife': {0}, 'Davis': {0}, 'Porter': {0}, 'Harvard': {0}, 'Central': {0}, 'Kendall/\\u200bMIT': {0}, 'Charles/\\u200bMGH': {0}, 'Park Street': {0, 4, 5, 6, 7}, 'Downtown Crossing': {0, 2}, 'South Station': {0}, 'Broadway': {0}, 'Andrew': {0}, 'JFK/\\u200bUMass': {0}, 'North Quincy': {0}, 'Wollaston': {0}, 'Quincy Center': {0}, 'Quincy Adams': {0}, 'Braintree': {0}, 'Savin Hill': {0}, 'Fields Corner': {0}, 'Shawmut': {0}, 'Ashmont': {0, 3}, 'Wonderland': {1}, 'Revere Beach': {1}, 'Beachmont': {1}, 'Suffolk Downs': {1}, 'Orient Heights': {1}, 'Wood Island': {1}, 'Airport': {1}, 'Maverick': {1}, 'Aquarium': {1}, 'State': {1, 2}, 'Government Center': {1, 5, 6, 7}, 'Bowdoin': {1}, 'Oak Grove': {2}, 'Malden Center': {2}, 'Wellington': {2}, 'Assembly': {2}, 'Sullivan Square': {2}, 'Community College': {2}, 'North Station': {2, 5, 7}, 'Haymarket': {2, 5, 7}, 'Chinatown': {2}, 'Tufts Medical Center': {2}, 'Back Bay': {2}, 'Massachusetts Avenue': {2}, 'Ruggles': {2}, 'Roxbury Crossing': {2}, 'Jackson Square': {2}, 'Stony Brook': {2}, 'Green Street': {2}, 'Forest Hills': {2}, 'Cedar Grove': {3}, 'Butler': {3}, 'Milton': {3}, 'Central Avenue': {3}, 'Valley Road': {3}, 'Capen Street': {3}, 'Mattapan': {3}, 'Boylston': {4, 5, 6, 7}, 'Arlington': {4, 5, 6, 7}, 'Copley': {4, 5, 6, 7}, 'Hynes Convention Center': {4, 5, 6}, 'Kenmore': {4, 5, 6}, 'Blandford Street': {4}, 'Boston University East': {4}, 'Boston University Central': {4}, 'Boston University West': {4}, 'Saint Paul Street': {4, 5}, 'Pleasant Street': {4}, 'Babcock Street': {4}, 'Packards Corner': {4}, 'Harvard Avenue': {4}, 'Griggs Street': {4}, 'Allston Street': {4}, 'Warren Street': {4}, 'Washington Street': {4}, 'Sutherland Road': {4}, 'Chiswick Road': {4}, 'Chestnut Hill Avenue': {4}, 'South Street': {4}, 'Boston College': {4}, 'Saint Marys Street': {5}, 'Hawes Street': {5}, 'Kent Street': {5}, 'Coolidge Corner': {5}, 'Summit Avenue': {5}, 'Brandon Hall': {5}, 'Fairbanks Street': {5}, 'Washington Square': {5}, 'Tappan Street': {5}, 'Dean Road': {5}, 'Englewood Avenue': {5}, 'Cleveland Circle': {5}, 'Fenway': {6}, 'Longwood': {6}, 'Brookline Village': {6}, 'Brookline Hills': {6}, 'Beaconsfield': {6}, 'Reservoir': {6}, 'Chestnut Hill': {6}, 'Newton Centre': {6}, 'Newton Highlands': {6}, 'Eliot': {6}, 'Waban': {6}, 'Woodland': {6}, 'Riverside': {6}, 'Lechmere': {7}, 'Science Park/\\u200bWest End': {7}, 'Prudential': {7}, 'Symphony': {7}, 'Northeastern University': {7}, 'Museum of Fine Arts': {7}, 'Longwood Medical Area': {7}, 'Brigham Circle': {7}, 'Fenwood Road': {7}, 'Mission Park': {7}, 'Riverway': {7}, 'Back of the Hill': {7}, 'Heath Street': {7}}\n"
     ]
    }
   ],
   "source": [
    "groups = [get_lines_list(i) for i in line]\n",
    "\n",
    "indices = {}\n",
    "\n",
    "for i, group in enumerate(groups):\n",
    "    for stop in group:\n",
    "        indices.setdefault(stop, set()).add(i)\n",
    "print(groups)\n",
    "print(indices)"
   ]
  },
  {
   "cell_type": "code",
   "execution_count": null,
   "metadata": {},
   "outputs": [],
   "source": []
  },
  {
   "cell_type": "code",
   "execution_count": 86,
   "metadata": {},
   "outputs": [],
   "source": [
    "def common_groups(stop1, stop2):\n",
    "    return(indices.get(stop1, set()) is indices.get(stop2, set()))\n",
    "    "
   ]
  },
  {
   "cell_type": "code",
   "execution_count": 87,
   "metadata": {},
   "outputs": [
    {
     "name": "stdout",
     "output_type": "stream",
     "text": [
      "False\n"
     ]
    }
   ],
   "source": [
    "print(common_groups('Alewife', 'Davis'))"
   ]
  },
  {
   "cell_type": "code",
   "execution_count": null,
   "metadata": {},
   "outputs": [],
   "source": []
  }
 ],
 "metadata": {
  "kernelspec": {
   "display_name": "Python 3",
   "language": "python",
   "name": "python3"
  },
  "language_info": {
   "codemirror_mode": {
    "name": "ipython",
    "version": 3
   },
   "file_extension": ".py",
   "mimetype": "text/x-python",
   "name": "python",
   "nbconvert_exporter": "python",
   "pygments_lexer": "ipython3",
   "version": "3.7.3"
  }
 },
 "nbformat": 4,
 "nbformat_minor": 2
}
